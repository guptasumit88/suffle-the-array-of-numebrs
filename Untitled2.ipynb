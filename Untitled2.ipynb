{
 "cells": [
  {
   "cell_type": "code",
   "execution_count": 3,
   "id": "35b54b14",
   "metadata": {},
   "outputs": [
    {
     "name": "stdout",
     "output_type": "stream",
     "text": [
      "elements of array:-2 5 7 4 3\n",
      "[2, 5, 7, 4, 3]\n"
     ]
    }
   ],
   "source": [
    "arr=list(map(int, input(\"elements of array:-\").strip().split()))\n",
    "print(arr)"
   ]
  },
  {
   "cell_type": "code",
   "execution_count": 4,
   "id": "57e8a784",
   "metadata": {},
   "outputs": [
    {
     "name": "stdout",
     "output_type": "stream",
     "text": [
      "2 7 4 5 3 "
     ]
    }
   ],
   "source": [
    "n = len(arr)\n",
    "def shuffle(arr, n):\n",
    "     \n",
    "    # Traverse all even elements\n",
    "    for i in range(0, n, 2):\n",
    "         \n",
    "        # If current even element is greater than previous\n",
    "        if (i> 0 and arr[i] > arr[i-1]):\n",
    "            arr[i],arr[i-1] = arr[i-1],arr[i]\n",
    "         \n",
    "        # If current even element is greater than next\n",
    "        if (i < n-1 and arr[i] > arr[i+1]):\n",
    "            arr[i],arr[i+1] = arr[i+1],arr[i]\n",
    "            \n",
    "shuffle(arr, len(arr))\n",
    "for i in range(0,len(arr)):\n",
    "    print (arr[i],end=\" \")"
   ]
  },
  {
   "cell_type": "code",
   "execution_count": null,
   "id": "f3c1e74a",
   "metadata": {},
   "outputs": [],
   "source": []
  }
 ],
 "metadata": {
  "kernelspec": {
   "display_name": "Python 3 (ipykernel)",
   "language": "python",
   "name": "python3"
  },
  "language_info": {
   "codemirror_mode": {
    "name": "ipython",
    "version": 3
   },
   "file_extension": ".py",
   "mimetype": "text/x-python",
   "name": "python",
   "nbconvert_exporter": "python",
   "pygments_lexer": "ipython3",
   "version": "3.10.4"
  }
 },
 "nbformat": 4,
 "nbformat_minor": 5
}
